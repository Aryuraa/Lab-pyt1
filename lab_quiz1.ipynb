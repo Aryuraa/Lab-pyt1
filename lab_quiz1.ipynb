{
  "nbformat": 4,
  "nbformat_minor": 0,
  "metadata": {
    "colab": {
      "name": "lab quiz1.ipynb",
      "provenance": [],
      "authorship_tag": "ABX9TyMutbzxMGV3+upYdWfAfV9L",
      "include_colab_link": true
    },
    "kernelspec": {
      "name": "python3",
      "display_name": "Python 3"
    },
    "language_info": {
      "name": "python"
    }
  },
  "cells": [
    {
      "cell_type": "markdown",
      "metadata": {
        "id": "view-in-github",
        "colab_type": "text"
      },
      "source": [
        "<a href=\"https://colab.research.google.com/github/Aryuraa/Lab-pyt1/blob/main/lab_quiz1.ipynb\" target=\"_parent\"><img src=\"https://colab.research.google.com/assets/colab-badge.svg\" alt=\"Open In Colab\"/></a>"
      ]
    },
    {
      "cell_type": "code",
      "execution_count": 2,
      "metadata": {
        "id": "qz0Wv1L8UNyw"
      },
      "outputs": [],
      "source": [
        "import numpy as np\n",
        "import matplotlib.pyplot as plt\n",
        "plt.style.use(\"seaborn-poster\")\n",
        "%matplotlib inline"
      ]
    },
    {
      "cell_type": "code",
      "source": [
        "#No.1\n",
        "\n",
        "x = np.array([0.1 , 0.3 , 0.5 , 0.7 , 0.9 , 1.1 , 1.3])\n",
        "y = np.array([0.003 , 0.067 , 0.148 , 0.248 , 0.370 , 0.518 , 0.697])\n",
        "\n",
        "ipt = 0.58\n",
        "sz = len(x)\n",
        "\n",
        "mtx = np.zeros([sz, sz])    #to set the matrix size\n",
        "mtx[0, :] = y\n",
        "\n",
        "for i in range(1,sz):\n",
        "  for j in range(0,sz-i):                                    #to calculate (f(x2)-f(x1)/x2-x1) and the other\n",
        "    mtx[i,j] = (mtx[i-1, j+1] - mtx[i-1, j])/(x[i+j]-x[j])\n",
        "\n",
        "z = mtx[0, 0]\n",
        "\n",
        "for i in range(1, sz):\n",
        "  a = mtx[i, 0]       \n",
        "  for j in range(0, i):    \n",
        "    a = a*(ipt - x[j]) \n",
        "  z = z + a\n",
        "\n",
        "print(z)"
      ],
      "metadata": {
        "colab": {
          "base_uri": "https://localhost:8080/"
        },
        "id": "DpyZgKdJEDC4",
        "outputId": "354f3955-a009-4679-9998-006bee6e9a2b"
      },
      "execution_count": 9,
      "outputs": [
        {
          "output_type": "stream",
          "name": "stdout",
          "text": [
            "0.18557439999999997\n"
          ]
        }
      ]
    },
    {
      "cell_type": "code",
      "source": [
        "# No. 2\n",
        "#to run this you need to run the number 1 first\n",
        "p = (x**3 + 2*x for x in x)\n",
        "\n",
        "res = np.fromiter(p, dtype = float)\n",
        "for i in range(sz):\n",
        "  res[i] = res[i] - y[i]\n",
        "print(res)\n",
        "\n",
        "p2 = (2*x for x in x)\n",
        "res2 = np.fromiter(p2, dtype = float)\n",
        "for i in range(sz):\n",
        "  res2[i] = res2[i] * y[i]\n",
        "\n",
        "  \n",
        "print(res2)"
      ],
      "metadata": {
        "colab": {
          "base_uri": "https://localhost:8080/"
        },
        "id": "kWlANlGE5TMt",
        "outputId": "83a5eaea-5fc7-4c41-a950-96bb593108e3"
      },
      "execution_count": 13,
      "outputs": [
        {
          "output_type": "stream",
          "name": "stdout",
          "text": [
            "[0.198 0.56  0.977 1.495 2.159 3.013 4.1  ]\n",
            "[6.0000e-04 4.0200e-02 1.4800e-01 3.4720e-01 6.6600e-01 1.1396e+00\n",
            " 1.8122e+00]\n"
          ]
        }
      ]
    },
    {
      "cell_type": "code",
      "source": [
        "#no.3\n",
        "#to run this you need to run the number 1 first\n",
        "plt.plot(x,y)"
      ],
      "metadata": {
        "colab": {
          "base_uri": "https://localhost:8080/",
          "height": 295
        },
        "id": "vPl2rx65goRA",
        "outputId": "189a82ee-71ca-4db5-b0da-caa90d6a23e1"
      },
      "execution_count": null,
      "outputs": [
        {
          "output_type": "execute_result",
          "data": {
            "text/plain": [
              "[<matplotlib.lines.Line2D at 0x7fb0e867b510>]"
            ]
          },
          "metadata": {},
          "execution_count": 31
        },
        {
          "output_type": "display_data",
          "data": {
            "text/plain": [
              "<Figure size 432x288 with 1 Axes>"
            ],
            "image/png": "[encoded data removed]"
          },
          "metadata": {
            "needs_background": "light"
          }
        }
      ]
    }
  ]
}