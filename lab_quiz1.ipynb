{
  "nbformat": 4,
  "nbformat_minor": 0,
  "metadata": {
    "colab": {
      "name": "lab quiz1.ipynb",
      "provenance": [],
      "authorship_tag": "ABX9TyMInrn3o97P2LrrNhDbOLic",
      "include_colab_link": true
    },
    "kernelspec": {
      "name": "python3",
      "display_name": "Python 3"
    },
    "language_info": {
      "name": "python"
    }
  },
  "cells": [
    {
      "cell_type": "markdown",
      "metadata": {
        "id": "view-in-github",
        "colab_type": "text"
      },
      "source": [
        "<a href=\"https://colab.research.google.com/github/Aryuraa/Lab-pyt1/blob/main/lab_quiz1.ipynb\" target=\"_parent\"><img src=\"https://colab.research.google.com/assets/colab-badge.svg\" alt=\"Open In Colab\"/></a>"
      ]
    },
    {
      "cell_type": "code",
      "execution_count": 72,
      "metadata": {
        "id": "qz0Wv1L8UNyw"
      },
      "outputs": [],
      "source": [
        "import numpy as np\n",
        "import matplotlib.pyplot as plt\n",
        "plt.style.use(\"seaborn-poster\")\n",
        "%matplotlib inline\n",
        "from scipy import stats\n"
      ]
    },
    {
      "cell_type": "code",
      "source": [
        "#No.1\n",
        "\n",
        "x = np.array([0.1 , 0.3 , 0.5 , 0.7 , 0.9 , 1.1 , 1.3])\n",
        "y = np.array([0.003 , 0.067 , 0.148 , 0.248 , 0.370 , 0.518 , 0.697])\n",
        "\n",
        "ipt = 0.58\n",
        "sz = len(x)\n",
        "mtx = np.zeros([sz, sz])    #to set the matrix size\n",
        "mtx[0, :] = y\n",
        "\n",
        "for i in range(1,sz):\n",
        "  for j in range(0,sz-i):                                    #to calculate (f(x2)-f(x1)/x2-x1) and the other\n",
        "    mtx[i,j] = (mtx[i-1, j+1] - mtx[i-1, j])/(x[i+j]-x[j])\n",
        "\n",
        "z = mtx[0, 0]\n",
        "\n",
        "for i in range(1, sz):\n",
        "  a = mtx[i, 0]       \n",
        "  for j in range(0, i):    \n",
        "    a = a*(ipt - x[j]) \n",
        "  z = z + a\n",
        "\n",
        "print(z)"
      ],
      "metadata": {
        "colab": {
          "base_uri": "https://localhost:8080/"
        },
        "id": "DpyZgKdJEDC4",
        "outputId": "9c02ce8f-03ce-4aab-c1ba-515e7c00b095"
      },
      "execution_count": 73,
      "outputs": [
        {
          "output_type": "stream",
          "name": "stdout",
          "text": [
            "0.18557439999999997\n"
          ]
        }
      ]
    },
    {
      "cell_type": "code",
      "source": [
        "# Nomor 2\n",
        "#Need to run first question to run this question\n",
        "slp, itc, t1, t2, t3 = stats.linregress(x, y)\n",
        "f1 = (x[i]**3 + 2*x[i] - y[i] for i in range(sz))\n",
        "f2 = (2*x[i]*y[i] for i in range(sz))\n",
        "res1 = slp**3+2*slp-itc\n",
        "res2 = 2*slp*itc\n",
        "\n",
        "print(\"Hasil persamaan setelah regresi:\")\n",
        "print(res1)\n",
        "print(res2)\n"
      ],
      "metadata": {
        "id": "kWlANlGE5TMt",
        "colab": {
          "base_uri": "https://localhost:8080/"
        },
        "outputId": "b4ccfbb9-af4a-49e6-c7e7-860d005d98a4"
      },
      "execution_count": 86,
      "outputs": [
        {
          "output_type": "stream",
          "name": "stdout",
          "text": [
            "Hasil persamaan setelah regresi:\n",
            "1.4403904531249996\n",
            "-0.12337374999999987\n"
          ]
        }
      ]
    },
    {
      "cell_type": "code",
      "source": [
        "# No. 3\n",
        "#Need to run the other first\n",
        "plt.scatter(x, y)\n",
        "plt.plot(x,y,\"r\")\n",
        "plt.xlabel(\"x\")\n",
        "plt.ylabel(\"y\")\n",
        "plt.show()"
      ],
      "metadata": {
        "colab": {
          "base_uri": "https://localhost:8080/",
          "height": 300
        },
        "id": "vPl2rx65goRA",
        "outputId": "d98cbdd0-a47d-4b25-f39f-81a9de8d3eef"
      },
      "execution_count": 78,
      "outputs": [
        {
          "output_type": "display_data",
          "data": {
            "text/plain": [
              "<Figure size 432x288 with 1 Axes>"
            ],
            "image/png": "[encoded data removed]"
          },
          "metadata": {
            "needs_background": "light"
          }
        }
      ]
    }
  ]
}