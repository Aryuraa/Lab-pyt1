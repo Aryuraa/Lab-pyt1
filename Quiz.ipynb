{
  "nbformat": 4,
  "nbformat_minor": 0,
  "metadata": {
    "colab": {
      "name": "Quiz.ipynb",
      "provenance": [],
      "collapsed_sections": [],
      "authorship_tag": "ABX9TyNg49psNKqQbpXoe1wkkhVg",
      "include_colab_link": true
    },
    "kernelspec": {
      "name": "python3",
      "display_name": "Python 3"
    },
    "language_info": {
      "name": "python"
    }
  },
  "cells": [
    {
      "cell_type": "markdown",
      "metadata": {
        "id": "view-in-github",
        "colab_type": "text"
      },
      "source": [
        "<a href=\"https://colab.research.google.com/github/Aryuraa/Lab-pyt1/blob/main/Quiz.ipynb\" target=\"_parent\"><img src=\"https://colab.research.google.com/assets/colab-badge.svg\" alt=\"Open In Colab\"/></a>"
      ]
    },
    {
      "cell_type": "code",
      "execution_count": 1,
      "metadata": {
        "id": "StfNVH_Oj9_y"
      },
      "outputs": [],
      "source": [
        "import numpy as np\n",
        "import matplotlib.pyplot as plt\n",
        "plt.style.use('seaborn-poster')\n",
        "%matplotlib inline"
      ]
    },
    {
      "cell_type": "markdown",
      "source": [
        "NO 1"
      ],
      "metadata": {
        "id": "4tN4BgTlCuUm"
      }
    },
    {
      "cell_type": "code",
      "source": [
        "# step size\n",
        "h = 0.1\n",
        "#isi x\n",
        "x = [0.1, 0.2, 0.3, 0.4, 0.5, 0.6]\n",
        "#isi f(x)\n",
        "f = [0.09327, 0.08435, 0.07591, 0.06894, 0.05971, 0.04362]\n",
        "#x_soal\n",
        "x_soal = 0.1\n",
        "n = 0\n",
        "simpan = 0\n",
        "for n in range (5):\n",
        "  if (x_soal == x[n]):\n",
        "    simpan = n\n",
        "#rumus turunan ke 4 dengan second forward difference approximations\n",
        "diff = -3*f[simpan]-14*f[simpan+1]+26*f[simpan+2]-24*f[simpan+3]+11*f[simpan+4]-2*f[simpan+5]\n",
        "h_akhir = diff/(h**4)\n",
        "print(\"Hasil turunan ke 4 f dan x = 0.1 :\")\n",
        "print(h_akhir)\n",
        "\n",
        "#hitung turunan ke 3 dengan x = 0.5\n",
        "x_soal = 0.5\n",
        "for n in range (5):\n",
        "  if (x_soal == x[n]):\n",
        "    simpan = n\n",
        "#rumus turunan ke 3 dengan second backward difference approximation\n",
        "diff2 = 5*f[simpan]-18*f[simpan-1]+24*f[simpan-2]-14*f[simpan-3]+3*f[simpan-4]\n",
        "h_akhir2 = diff2/(2*(h**3))\n",
        "print(\"Hasil turunan ke 3 f dan x = 0.5 :\")\n",
        "print(h_akhir2)"
      ],
      "metadata": {
        "colab": {
          "base_uri": "https://localhost:8080/"
        },
        "id": "2bi3I0ClkAAP",
        "outputId": "07eb6fa9-807e-40e3-fb86-10ce1b8dd205"
      },
      "execution_count": 2,
      "outputs": [
        {
          "output_type": "stream",
          "name": "stdout",
          "text": [
            "Hasil turunan ke 4 f dan x = 0.1 :\n",
            "-5720.399999999994\n",
            "Hasil turunan ke 3 f dan x = 0.5 :\n",
            "-10.809999999999873\n"
          ]
        }
      ]
    },
    {
      "cell_type": "code",
      "source": [
        "import math\n",
        "from sympy.core import symbol\n",
        "import sympy as sym"
      ],
      "metadata": {
        "id": "aLEhRdCFWl8B"
      },
      "execution_count": 4,
      "outputs": []
    },
    {
      "cell_type": "markdown",
      "source": [
        "NO 2"
      ],
      "metadata": {
        "id": "XbskD2wDC0xt"
      }
    },
    {
      "cell_type": "code",
      "source": [
        "x = sym.symbols('x')\n",
        "y = 2\n",
        "h = 0.2\n",
        "#hasil dibuat 2, sebab y(0)nya adalah 2\n",
        "hasil = 2\n",
        "#rumus y' tanpa y\n",
        "Y1 = (2*(x**2))\n",
        "#Butuh Y2 sebab Y1 akan berubah - ubah\n",
        "Y2 = (2*(x**2))\n",
        "#Untuk menyimpan nilai turunan\n",
        "Ytur = [0 for i in range(5)] \n",
        "#turunkan x\n",
        "for n in range (0,4):\n",
        "  Ytur[n] = Y1\n",
        "  Y1 = sym.diff(Y1)\n",
        "  Y1 = Y1 + ((-8)**(n+1))*Y2\n",
        "#Substitusi nilai x turunan x\n",
        "for n in range (0,4):\n",
        "  Ytur[n] = Ytur[n].subs(x, 0) + ((-8)**(n+1))*y\n",
        "#Substitusi nilai y\n",
        "for n in range (0,4):\n",
        "  hasil = hasil + Ytur[n]*(h**(n+1))/np.math.factorial(n+1)\n",
        "print(\"Nilai y(0,2) adalah:\")\n",
        "print(hasil)\n",
        "\n",
        "#Hitung Error\n",
        "e = 2.71828\n",
        "#Nilai Analitiknya\n",
        "err0 = ((31/32)*(e)**(-4*0.2))+((1/4)*(0.2**2))-((1/8)*0.2)+(1/32)\n",
        "ErrTot = err0 - hasil\n",
        "print(\"Error Totalnya adalah: \")\n",
        "print(ErrTot)\n"
      ],
      "metadata": {
        "colab": {
          "base_uri": "https://localhost:8080/"
        },
        "id": "tF6yHb8WZTVI",
        "outputId": "96f3f465-cf8c-4dbb-f1e8-409960258721"
      },
      "execution_count": 66,
      "outputs": [
        {
          "output_type": "stream",
          "name": "stdout",
          "text": [
            "Nilai y(0,2) adalah:\n",
            "0.544000000000000\n",
            "Error Totalnya adalah: \n",
            "-0.0924623317735583\n"
          ]
        }
      ]
    }
  ]
}